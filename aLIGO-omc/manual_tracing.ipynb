{
 "cells": [
  {
   "cell_type": "code",
   "execution_count": null,
   "id": "ee8287d1",
   "metadata": {},
   "outputs": [],
   "source": [
    "def splitter(is_transmission: bool, alpha_1: float, Rc: float, n1: float = 1.0, n2: float = 1.458) -> np.array:\n",
    "    #######\n",
    "    # This is a function to generate ABCD matrices for beamsplitter components\n",
    "    # is_transmission controls whether returned matrix corresponds to refl./trans. through BS\n",
    "    # alpha_1 -> AOI (in degrees please)\n",
    "    # Rc -> radius of curvature (meters)\n",
    "    # n1/n2 -> indices of refraction (defaults n1 -> air, n2 -> fused silica at 1064nm)\n",
    "\n",
    "\n",
    "    alpha_1_rad = alpha_1 * (np.pi / 180)\n",
    "    if is_transmission == True: \n",
    "        alpha_2_rad = np.arcsin((n1*np.sin(alpha_1_rad))/n2) #Snell's law\n",
    "        delta_n = (n2 * np.cos(alpha_2_rad) - n1 * np.cos(alpha_1_rad))/(np.cos(alpha_1_rad) * np.cos(alpha_2_rad)) #Defintion\n",
    "        At,Bt,Ct,Dt = (np.cos(alpha_2_rad))/(np.cos(alpha_1_rad)), 0, delta_n/Rc, (np.cos(alpha_2_rad))/(np.cos(alpha_1_rad))\n",
    "        As,Bs,Cs,Ds = 1,0,delta_n/Rc,1\n",
    "        Mt = np.array([[At,Bt],[Ct,Dt]])\n",
    "        Ms = np.array([[As,Bs],[Cs,Ds]])\n",
    "        return Mt,Ms\n",
    "\n",
    "    if is_transmission == False:      \n",
    "        At,Bt,Ct,Dt = 1,0,-(2*n1)/(Rc*np.cos(alpha_1_rad)),1\n",
    "        As,Bs,Cs,Ds = 1,0,-(2*n1*np.cos(alpha_1))/Rc, 1\n",
    "        Mt = np.array([[At,Bt],[Ct,Dt]])\n",
    "        Ms = np.array([[As,Bs],[Cs,Ds]])\n",
    "        return Mt,Ms"
   ]
  },
  {
   "cell_type": "code",
   "execution_count": null,
   "id": "a76bcbdd",
   "metadata": {},
   "outputs": [],
   "source": [
    "def space(L: float, n: float = 1):\n",
    "    ###########\n",
    "    # function to generate space ABCD matrix\n",
    "\n",
    "    A,B,C,D = 1,L/n, 0, 1\n",
    "    M = np.array([[A,B],[C,D]])\n",
    "    return M"
   ]
  },
  {
   "cell_type": "code",
   "execution_count": null,
   "id": "c6503067",
   "metadata": {},
   "outputs": [],
   "source": [
    "def mat_mult(M_list: list):\n",
    "    # Matrix multiplier in order.\n",
    "    # M_list should be ABCD matrices in reverse order of beam arrival\n",
    "    mult_1 = np.matmul(M_list[0],M_list[1]) #do first multiplication\n",
    "    i = 2 #skip\n",
    "    while i < len(M_list):\n",
    "        mmult = np.matmul(mult_1,M_list[i]) #multiply subsequent list elements\n",
    "        mult_1 = mmult #update multiplication result\n",
    "    return mult_1 #give it"
   ]
  }
 ],
 "metadata": {
  "language_info": {
   "name": "python"
  }
 },
 "nbformat": 4,
 "nbformat_minor": 5
}
